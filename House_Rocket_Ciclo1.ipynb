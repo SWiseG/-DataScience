{
  "nbformat": 4,
  "nbformat_minor": 0,
  "metadata": {
    "colab": {
      "name": "House_Rocket_Ciclo1.ipynb",
      "provenance": [],
      "collapsed_sections": [],
      "mount_file_id": "1hEXGX8Oo2-mjdCZJWf7hyxxq8CW4R_3Z",
      "authorship_tag": "ABX9TyNI2G4goIBDZovdv/eJML6X",
      "include_colab_link": true
    },
    "kernelspec": {
      "name": "python3",
      "display_name": "Python 3"
    },
    "language_info": {
      "name": "python"
    }
  },
  "cells": [
    {
      "cell_type": "markdown",
      "metadata": {
        "id": "view-in-github",
        "colab_type": "text"
      },
      "source": [
        "<a href=\"https://colab.research.google.com/github/SWiseG/DataScience/blob/main/House_Rocket_Ciclo1.ipynb\" target=\"_parent\"><img src=\"https://colab.research.google.com/assets/colab-badge.svg\" alt=\"Open In Colab\"/></a>"
      ]
    },
    {
      "cell_type": "markdown",
      "source": [
        "-- MONTANDO PIPELINE DE TREINAMENTO -- "
      ],
      "metadata": {
        "id": "O3OulMc5SjVQ"
      }
    },
    {
      "cell_type": "markdown",
      "source": [
        "SESSÃO DE IMPORTS"
      ],
      "metadata": {
        "id": "pM06h3REFF1J"
      }
    },
    {
      "cell_type": "code",
      "source": [
        "import pandas as pd\n",
        "import numpy as np\n",
        "from sklearn import linear_model as lm"
      ],
      "metadata": {
        "id": "ARix3b8_FqFK"
      },
      "execution_count": null,
      "outputs": []
    },
    {
      "cell_type": "markdown",
      "source": [
        "SESSÃO DE LOADING DATA"
      ],
      "metadata": {
        "id": "d1Sb4djbFHXP"
      }
    },
    {
      "cell_type": "code",
      "source": [
        "df_raw = pd.read_csv(r'/content/kc_house_data.csv', encoding='latin1')"
      ],
      "metadata": {
        "id": "jiZEO3MxFs8R"
      },
      "execution_count": null,
      "outputs": []
    },
    {
      "cell_type": "code",
      "source": [
        "df_raw.head()"
      ],
      "metadata": {
        "colab": {
          "base_uri": "https://localhost:8080/",
          "height": 245
        },
        "id": "Jrw65vDiI7Rw",
        "outputId": "14d7c31a-b073-4fbc-ba94-08cbebe08306"
      },
      "execution_count": null,
      "outputs": [
        {
          "output_type": "execute_result",
          "data": {
            "text/plain": [
              "           id             date     price  bedrooms  bathrooms  sqft_living  \\\n",
              "0  7129300520  20141013T000000  221900.0         3       1.00         1180   \n",
              "1  6414100192  20141209T000000  538000.0         3       2.25         2570   \n",
              "2  5631500400  20150225T000000  180000.0         2       1.00          770   \n",
              "3  2487200875  20141209T000000  604000.0         4       3.00         1960   \n",
              "4  1954400510  20150218T000000  510000.0         3       2.00         1680   \n",
              "\n",
              "   sqft_lot  floors  waterfront  view  ...  grade  sqft_above  sqft_basement  \\\n",
              "0      5650     1.0           0     0  ...      7        1180              0   \n",
              "1      7242     2.0           0     0  ...      7        2170            400   \n",
              "2     10000     1.0           0     0  ...      6         770              0   \n",
              "3      5000     1.0           0     0  ...      7        1050            910   \n",
              "4      8080     1.0           0     0  ...      8        1680              0   \n",
              "\n",
              "   yr_built  yr_renovated  zipcode      lat     long  sqft_living15  \\\n",
              "0      1955             0    98178  47.5112 -122.257           1340   \n",
              "1      1951          1991    98125  47.7210 -122.319           1690   \n",
              "2      1933             0    98028  47.7379 -122.233           2720   \n",
              "3      1965             0    98136  47.5208 -122.393           1360   \n",
              "4      1987             0    98074  47.6168 -122.045           1800   \n",
              "\n",
              "   sqft_lot15  \n",
              "0        5650  \n",
              "1        7639  \n",
              "2        8062  \n",
              "3        5000  \n",
              "4        7503  \n",
              "\n",
              "[5 rows x 21 columns]"
            ],
            "text/html": [
              "\n",
              "  <div id=\"df-f74e6e9b-606f-4e85-8212-6581388a99fa\">\n",
              "    <div class=\"colab-df-container\">\n",
              "      <div>\n",
              "<style scoped>\n",
              "    .dataframe tbody tr th:only-of-type {\n",
              "        vertical-align: middle;\n",
              "    }\n",
              "\n",
              "    .dataframe tbody tr th {\n",
              "        vertical-align: top;\n",
              "    }\n",
              "\n",
              "    .dataframe thead th {\n",
              "        text-align: right;\n",
              "    }\n",
              "</style>\n",
              "<table border=\"1\" class=\"dataframe\">\n",
              "  <thead>\n",
              "    <tr style=\"text-align: right;\">\n",
              "      <th></th>\n",
              "      <th>id</th>\n",
              "      <th>date</th>\n",
              "      <th>price</th>\n",
              "      <th>bedrooms</th>\n",
              "      <th>bathrooms</th>\n",
              "      <th>sqft_living</th>\n",
              "      <th>sqft_lot</th>\n",
              "      <th>floors</th>\n",
              "      <th>waterfront</th>\n",
              "      <th>view</th>\n",
              "      <th>...</th>\n",
              "      <th>grade</th>\n",
              "      <th>sqft_above</th>\n",
              "      <th>sqft_basement</th>\n",
              "      <th>yr_built</th>\n",
              "      <th>yr_renovated</th>\n",
              "      <th>zipcode</th>\n",
              "      <th>lat</th>\n",
              "      <th>long</th>\n",
              "      <th>sqft_living15</th>\n",
              "      <th>sqft_lot15</th>\n",
              "    </tr>\n",
              "  </thead>\n",
              "  <tbody>\n",
              "    <tr>\n",
              "      <th>0</th>\n",
              "      <td>7129300520</td>\n",
              "      <td>20141013T000000</td>\n",
              "      <td>221900.0</td>\n",
              "      <td>3</td>\n",
              "      <td>1.00</td>\n",
              "      <td>1180</td>\n",
              "      <td>5650</td>\n",
              "      <td>1.0</td>\n",
              "      <td>0</td>\n",
              "      <td>0</td>\n",
              "      <td>...</td>\n",
              "      <td>7</td>\n",
              "      <td>1180</td>\n",
              "      <td>0</td>\n",
              "      <td>1955</td>\n",
              "      <td>0</td>\n",
              "      <td>98178</td>\n",
              "      <td>47.5112</td>\n",
              "      <td>-122.257</td>\n",
              "      <td>1340</td>\n",
              "      <td>5650</td>\n",
              "    </tr>\n",
              "    <tr>\n",
              "      <th>1</th>\n",
              "      <td>6414100192</td>\n",
              "      <td>20141209T000000</td>\n",
              "      <td>538000.0</td>\n",
              "      <td>3</td>\n",
              "      <td>2.25</td>\n",
              "      <td>2570</td>\n",
              "      <td>7242</td>\n",
              "      <td>2.0</td>\n",
              "      <td>0</td>\n",
              "      <td>0</td>\n",
              "      <td>...</td>\n",
              "      <td>7</td>\n",
              "      <td>2170</td>\n",
              "      <td>400</td>\n",
              "      <td>1951</td>\n",
              "      <td>1991</td>\n",
              "      <td>98125</td>\n",
              "      <td>47.7210</td>\n",
              "      <td>-122.319</td>\n",
              "      <td>1690</td>\n",
              "      <td>7639</td>\n",
              "    </tr>\n",
              "    <tr>\n",
              "      <th>2</th>\n",
              "      <td>5631500400</td>\n",
              "      <td>20150225T000000</td>\n",
              "      <td>180000.0</td>\n",
              "      <td>2</td>\n",
              "      <td>1.00</td>\n",
              "      <td>770</td>\n",
              "      <td>10000</td>\n",
              "      <td>1.0</td>\n",
              "      <td>0</td>\n",
              "      <td>0</td>\n",
              "      <td>...</td>\n",
              "      <td>6</td>\n",
              "      <td>770</td>\n",
              "      <td>0</td>\n",
              "      <td>1933</td>\n",
              "      <td>0</td>\n",
              "      <td>98028</td>\n",
              "      <td>47.7379</td>\n",
              "      <td>-122.233</td>\n",
              "      <td>2720</td>\n",
              "      <td>8062</td>\n",
              "    </tr>\n",
              "    <tr>\n",
              "      <th>3</th>\n",
              "      <td>2487200875</td>\n",
              "      <td>20141209T000000</td>\n",
              "      <td>604000.0</td>\n",
              "      <td>4</td>\n",
              "      <td>3.00</td>\n",
              "      <td>1960</td>\n",
              "      <td>5000</td>\n",
              "      <td>1.0</td>\n",
              "      <td>0</td>\n",
              "      <td>0</td>\n",
              "      <td>...</td>\n",
              "      <td>7</td>\n",
              "      <td>1050</td>\n",
              "      <td>910</td>\n",
              "      <td>1965</td>\n",
              "      <td>0</td>\n",
              "      <td>98136</td>\n",
              "      <td>47.5208</td>\n",
              "      <td>-122.393</td>\n",
              "      <td>1360</td>\n",
              "      <td>5000</td>\n",
              "    </tr>\n",
              "    <tr>\n",
              "      <th>4</th>\n",
              "      <td>1954400510</td>\n",
              "      <td>20150218T000000</td>\n",
              "      <td>510000.0</td>\n",
              "      <td>3</td>\n",
              "      <td>2.00</td>\n",
              "      <td>1680</td>\n",
              "      <td>8080</td>\n",
              "      <td>1.0</td>\n",
              "      <td>0</td>\n",
              "      <td>0</td>\n",
              "      <td>...</td>\n",
              "      <td>8</td>\n",
              "      <td>1680</td>\n",
              "      <td>0</td>\n",
              "      <td>1987</td>\n",
              "      <td>0</td>\n",
              "      <td>98074</td>\n",
              "      <td>47.6168</td>\n",
              "      <td>-122.045</td>\n",
              "      <td>1800</td>\n",
              "      <td>7503</td>\n",
              "    </tr>\n",
              "  </tbody>\n",
              "</table>\n",
              "<p>5 rows × 21 columns</p>\n",
              "</div>\n",
              "      <button class=\"colab-df-convert\" onclick=\"convertToInteractive('df-f74e6e9b-606f-4e85-8212-6581388a99fa')\"\n",
              "              title=\"Convert this dataframe to an interactive table.\"\n",
              "              style=\"display:none;\">\n",
              "        \n",
              "  <svg xmlns=\"http://www.w3.org/2000/svg\" height=\"24px\"viewBox=\"0 0 24 24\"\n",
              "       width=\"24px\">\n",
              "    <path d=\"M0 0h24v24H0V0z\" fill=\"none\"/>\n",
              "    <path d=\"M18.56 5.44l.94 2.06.94-2.06 2.06-.94-2.06-.94-.94-2.06-.94 2.06-2.06.94zm-11 1L8.5 8.5l.94-2.06 2.06-.94-2.06-.94L8.5 2.5l-.94 2.06-2.06.94zm10 10l.94 2.06.94-2.06 2.06-.94-2.06-.94-.94-2.06-.94 2.06-2.06.94z\"/><path d=\"M17.41 7.96l-1.37-1.37c-.4-.4-.92-.59-1.43-.59-.52 0-1.04.2-1.43.59L10.3 9.45l-7.72 7.72c-.78.78-.78 2.05 0 2.83L4 21.41c.39.39.9.59 1.41.59.51 0 1.02-.2 1.41-.59l7.78-7.78 2.81-2.81c.8-.78.8-2.07 0-2.86zM5.41 20L4 18.59l7.72-7.72 1.47 1.35L5.41 20z\"/>\n",
              "  </svg>\n",
              "      </button>\n",
              "      \n",
              "  <style>\n",
              "    .colab-df-container {\n",
              "      display:flex;\n",
              "      flex-wrap:wrap;\n",
              "      gap: 12px;\n",
              "    }\n",
              "\n",
              "    .colab-df-convert {\n",
              "      background-color: #E8F0FE;\n",
              "      border: none;\n",
              "      border-radius: 50%;\n",
              "      cursor: pointer;\n",
              "      display: none;\n",
              "      fill: #1967D2;\n",
              "      height: 32px;\n",
              "      padding: 0 0 0 0;\n",
              "      width: 32px;\n",
              "    }\n",
              "\n",
              "    .colab-df-convert:hover {\n",
              "      background-color: #E2EBFA;\n",
              "      box-shadow: 0px 1px 2px rgba(60, 64, 67, 0.3), 0px 1px 3px 1px rgba(60, 64, 67, 0.15);\n",
              "      fill: #174EA6;\n",
              "    }\n",
              "\n",
              "    [theme=dark] .colab-df-convert {\n",
              "      background-color: #3B4455;\n",
              "      fill: #D2E3FC;\n",
              "    }\n",
              "\n",
              "    [theme=dark] .colab-df-convert:hover {\n",
              "      background-color: #434B5C;\n",
              "      box-shadow: 0px 1px 3px 1px rgba(0, 0, 0, 0.15);\n",
              "      filter: drop-shadow(0px 1px 2px rgba(0, 0, 0, 0.3));\n",
              "      fill: #FFFFFF;\n",
              "    }\n",
              "  </style>\n",
              "\n",
              "      <script>\n",
              "        const buttonEl =\n",
              "          document.querySelector('#df-f74e6e9b-606f-4e85-8212-6581388a99fa button.colab-df-convert');\n",
              "        buttonEl.style.display =\n",
              "          google.colab.kernel.accessAllowed ? 'block' : 'none';\n",
              "\n",
              "        async function convertToInteractive(key) {\n",
              "          const element = document.querySelector('#df-f74e6e9b-606f-4e85-8212-6581388a99fa');\n",
              "          const dataTable =\n",
              "            await google.colab.kernel.invokeFunction('convertToInteractive',\n",
              "                                                     [key], {});\n",
              "          if (!dataTable) return;\n",
              "\n",
              "          const docLinkHtml = 'Like what you see? Visit the ' +\n",
              "            '<a target=\"_blank\" href=https://colab.research.google.com/notebooks/data_table.ipynb>data table notebook</a>'\n",
              "            + ' to learn more about interactive tables.';\n",
              "          element.innerHTML = '';\n",
              "          dataTable['output_type'] = 'display_data';\n",
              "          await google.colab.output.renderOutput(dataTable, element);\n",
              "          const docLink = document.createElement('div');\n",
              "          docLink.innerHTML = docLinkHtml;\n",
              "          element.appendChild(docLink);\n",
              "        }\n",
              "      </script>\n",
              "    </div>\n",
              "  </div>\n",
              "  "
            ]
          },
          "metadata": {},
          "execution_count": 23
        },
        {
          "output_type": "stream",
          "name": "stdout",
          "text": [
            "Warning: Total number of columns (21) exceeds max_columns (20) limiting to first (20) columns.\n"
          ]
        }
      ]
    },
    {
      "cell_type": "markdown",
      "source": [
        "SESSÃO DE DATA PREPARATION"
      ],
      "metadata": {
        "id": "4OZ0snppFIwc"
      }
    },
    {
      "cell_type": "code",
      "source": [
        "#features dados de treino\n",
        "x_train = df_raw.drop( ['price', 'date'], axis=1)\n",
        "#response variable\n",
        "y_train = df_raw['price'].copy()"
      ],
      "metadata": {
        "id": "XTHur_ryJF7x"
      },
      "execution_count": null,
      "outputs": []
    },
    {
      "cell_type": "markdown",
      "source": [
        "SESSÃO DE MODEL TRAINING"
      ],
      "metadata": {
        "id": "Z2KtVz7zFKnq"
      }
    },
    {
      "cell_type": "code",
      "source": [
        "#regressão linear simples, variavel resposta é R$, precisamos fechar o ciclo\n",
        "#model description\n",
        "modelLr = lm.LinearRegression()\n",
        "\n",
        "#model training (fit executa treinamento)\n",
        "modelLr.fit(x_train, y_train)\n",
        "\n",
        "#prediction\n",
        "pred = modelLr.predict(x_train)"
      ],
      "metadata": {
        "id": "1KdhaMtkJo0J"
      },
      "execution_count": null,
      "outputs": []
    },
    {
      "cell_type": "code",
      "source": [
        "#olhando as 100 primeiras predições\n",
        "pred[0:100]"
      ],
      "metadata": {
        "colab": {
          "base_uri": "https://localhost:8080/"
        },
        "id": "72ZcCFusKfDb",
        "outputId": "4fd471d6-40ca-4cad-8712-63f689cb9c0e"
      },
      "execution_count": null,
      "outputs": [
        {
          "output_type": "execute_result",
          "data": {
            "text/plain": [
              "array([ 205766.26460968,  731219.64982988,  379097.88265421,\n",
              "        457424.13432532,  444789.05471818, 1451676.80046195,\n",
              "        277965.14285812,  135261.77208381,  329843.81624407,\n",
              "        250731.25050368,  870212.88141898,  437789.7212129 ,\n",
              "        600311.43498103,  316903.13655575,  611557.85739094,\n",
              "        944453.29692633,  456573.68626298,  539004.69481039,\n",
              "        335024.25629843,  210585.07434929,  466088.95603634,\n",
              "       1116489.11078672,  330386.4502663 ,  130784.11743753,\n",
              "        545423.99906293,  310538.26026997,  802018.13764909,\n",
              "        651875.2038284 ,  457699.20615305,  650018.45024579,\n",
              "        541202.92170096,  332196.71884804,  655096.04733216,\n",
              "        555240.3375654 ,  319817.17474404,  804301.35470891,\n",
              "        201145.17195312,  861533.54324508,  103130.7598353 ,\n",
              "        585745.32147534,  664511.50307355,  742662.60624426,\n",
              "        863042.39845947,  508391.02023431,  153710.08047346,\n",
              "        811721.66516491,   32096.77784442,  762323.19584885,\n",
              "        417855.61065262, 1530097.62528189,  185578.71195409,\n",
              "        658157.92714008,  471090.25997122,  498290.25253108,\n",
              "        789802.28617638,  773293.96241434,  271727.3986538 ,\n",
              "        467150.37020341, 1056923.77322495,  443395.18842532,\n",
              "        694554.24465641,  237766.54435058,  598068.69850043,\n",
              "        408857.34579791,  376054.00863788,  744927.55137096,\n",
              "        879888.08105548,  321711.45186223,  121851.74702504,\n",
              "        783019.32595652, 1399362.50569153,  460538.49633778,\n",
              "        800124.29246184,  390335.05311715,  300689.96053664,\n",
              "        991726.69237243,  413248.79001212,  310476.89799595,\n",
              "        413980.07473532,  802185.44256433,  412926.15633995,\n",
              "        218377.00510944,  449654.54032681,  434848.80269804,\n",
              "        261756.27101993,  819846.02518014,  407338.51403975,\n",
              "        708935.71931339,  424310.54489845,  177895.94502974,\n",
              "        297041.36776157,  958741.14250691,  190018.37500697,\n",
              "        603396.3701043 ,  603396.3701043 ,  795519.96750258,\n",
              "        354071.72245305,  155387.93358107,  244625.66437735,\n",
              "        645182.95882823])"
            ]
          },
          "metadata": {},
          "execution_count": 35
        }
      ]
    },
    {
      "cell_type": "markdown",
      "source": [
        "SESSÃO DE PERFORMANCE METRICS\n"
      ],
      "metadata": {
        "id": "7Q5WJiq4FMAe"
      }
    },
    {
      "cell_type": "code",
      "source": [
        "df1 = df_raw.copy()"
      ],
      "metadata": {
        "id": "AjGt1jL-Km3N"
      },
      "execution_count": null,
      "outputs": []
    },
    {
      "cell_type": "code",
      "source": [
        "df1['prediction'] = pred"
      ],
      "metadata": {
        "id": "Rn3edq63KrOV"
      },
      "execution_count": null,
      "outputs": []
    },
    {
      "cell_type": "code",
      "source": [
        "#CasaId - PreçoQueFoiVendida - Predição dada pelo modelo\n",
        "#df1[['id', 'price', 'prediction']].head()\n",
        "#df1[['id', 'price', 'prediction', 'error']].head()\n",
        "df1[['id', 'price', 'prediction', 'error', 'error_abs', 'error_perc','error_perc_abs']].head()\n"
      ],
      "metadata": {
        "colab": {
          "base_uri": "https://localhost:8080/",
          "height": 214
        },
        "id": "d2PEXvj7Kwsr",
        "outputId": "0ce37bb9-1369-4416-de01-53c212a914ef"
      },
      "execution_count": null,
      "outputs": [
        {
          "output_type": "execute_result",
          "data": {
            "text/plain": [
              "           id     price     prediction          error      error_abs  \\\n",
              "0  7129300520  221900.0  205766.264610   16133.735390   16133.735390   \n",
              "1  6414100192  538000.0  731219.649830 -193219.649830  193219.649830   \n",
              "2  5631500400  180000.0  379097.882654 -199097.882654  199097.882654   \n",
              "3  2487200875  604000.0  457424.134325  146575.865675  146575.865675   \n",
              "4  1954400510  510000.0  444789.054718   65210.945282   65210.945282   \n",
              "\n",
              "   error_perc  error_perc_abs  \n",
              "0    7.270723        7.270723  \n",
              "1  -35.914433       35.914433  \n",
              "2 -110.609935      110.609935  \n",
              "3   24.267527       24.267527  \n",
              "4   12.786460       12.786460  "
            ],
            "text/html": [
              "\n",
              "  <div id=\"df-b41f5b70-367a-4ef2-abb4-63111436e3d5\">\n",
              "    <div class=\"colab-df-container\">\n",
              "      <div>\n",
              "<style scoped>\n",
              "    .dataframe tbody tr th:only-of-type {\n",
              "        vertical-align: middle;\n",
              "    }\n",
              "\n",
              "    .dataframe tbody tr th {\n",
              "        vertical-align: top;\n",
              "    }\n",
              "\n",
              "    .dataframe thead th {\n",
              "        text-align: right;\n",
              "    }\n",
              "</style>\n",
              "<table border=\"1\" class=\"dataframe\">\n",
              "  <thead>\n",
              "    <tr style=\"text-align: right;\">\n",
              "      <th></th>\n",
              "      <th>id</th>\n",
              "      <th>price</th>\n",
              "      <th>prediction</th>\n",
              "      <th>error</th>\n",
              "      <th>error_abs</th>\n",
              "      <th>error_perc</th>\n",
              "      <th>error_perc_abs</th>\n",
              "    </tr>\n",
              "  </thead>\n",
              "  <tbody>\n",
              "    <tr>\n",
              "      <th>0</th>\n",
              "      <td>7129300520</td>\n",
              "      <td>221900.0</td>\n",
              "      <td>205766.264610</td>\n",
              "      <td>16133.735390</td>\n",
              "      <td>16133.735390</td>\n",
              "      <td>7.270723</td>\n",
              "      <td>7.270723</td>\n",
              "    </tr>\n",
              "    <tr>\n",
              "      <th>1</th>\n",
              "      <td>6414100192</td>\n",
              "      <td>538000.0</td>\n",
              "      <td>731219.649830</td>\n",
              "      <td>-193219.649830</td>\n",
              "      <td>193219.649830</td>\n",
              "      <td>-35.914433</td>\n",
              "      <td>35.914433</td>\n",
              "    </tr>\n",
              "    <tr>\n",
              "      <th>2</th>\n",
              "      <td>5631500400</td>\n",
              "      <td>180000.0</td>\n",
              "      <td>379097.882654</td>\n",
              "      <td>-199097.882654</td>\n",
              "      <td>199097.882654</td>\n",
              "      <td>-110.609935</td>\n",
              "      <td>110.609935</td>\n",
              "    </tr>\n",
              "    <tr>\n",
              "      <th>3</th>\n",
              "      <td>2487200875</td>\n",
              "      <td>604000.0</td>\n",
              "      <td>457424.134325</td>\n",
              "      <td>146575.865675</td>\n",
              "      <td>146575.865675</td>\n",
              "      <td>24.267527</td>\n",
              "      <td>24.267527</td>\n",
              "    </tr>\n",
              "    <tr>\n",
              "      <th>4</th>\n",
              "      <td>1954400510</td>\n",
              "      <td>510000.0</td>\n",
              "      <td>444789.054718</td>\n",
              "      <td>65210.945282</td>\n",
              "      <td>65210.945282</td>\n",
              "      <td>12.786460</td>\n",
              "      <td>12.786460</td>\n",
              "    </tr>\n",
              "  </tbody>\n",
              "</table>\n",
              "</div>\n",
              "      <button class=\"colab-df-convert\" onclick=\"convertToInteractive('df-b41f5b70-367a-4ef2-abb4-63111436e3d5')\"\n",
              "              title=\"Convert this dataframe to an interactive table.\"\n",
              "              style=\"display:none;\">\n",
              "        \n",
              "  <svg xmlns=\"http://www.w3.org/2000/svg\" height=\"24px\"viewBox=\"0 0 24 24\"\n",
              "       width=\"24px\">\n",
              "    <path d=\"M0 0h24v24H0V0z\" fill=\"none\"/>\n",
              "    <path d=\"M18.56 5.44l.94 2.06.94-2.06 2.06-.94-2.06-.94-.94-2.06-.94 2.06-2.06.94zm-11 1L8.5 8.5l.94-2.06 2.06-.94-2.06-.94L8.5 2.5l-.94 2.06-2.06.94zm10 10l.94 2.06.94-2.06 2.06-.94-2.06-.94-.94-2.06-.94 2.06-2.06.94z\"/><path d=\"M17.41 7.96l-1.37-1.37c-.4-.4-.92-.59-1.43-.59-.52 0-1.04.2-1.43.59L10.3 9.45l-7.72 7.72c-.78.78-.78 2.05 0 2.83L4 21.41c.39.39.9.59 1.41.59.51 0 1.02-.2 1.41-.59l7.78-7.78 2.81-2.81c.8-.78.8-2.07 0-2.86zM5.41 20L4 18.59l7.72-7.72 1.47 1.35L5.41 20z\"/>\n",
              "  </svg>\n",
              "      </button>\n",
              "      \n",
              "  <style>\n",
              "    .colab-df-container {\n",
              "      display:flex;\n",
              "      flex-wrap:wrap;\n",
              "      gap: 12px;\n",
              "    }\n",
              "\n",
              "    .colab-df-convert {\n",
              "      background-color: #E8F0FE;\n",
              "      border: none;\n",
              "      border-radius: 50%;\n",
              "      cursor: pointer;\n",
              "      display: none;\n",
              "      fill: #1967D2;\n",
              "      height: 32px;\n",
              "      padding: 0 0 0 0;\n",
              "      width: 32px;\n",
              "    }\n",
              "\n",
              "    .colab-df-convert:hover {\n",
              "      background-color: #E2EBFA;\n",
              "      box-shadow: 0px 1px 2px rgba(60, 64, 67, 0.3), 0px 1px 3px 1px rgba(60, 64, 67, 0.15);\n",
              "      fill: #174EA6;\n",
              "    }\n",
              "\n",
              "    [theme=dark] .colab-df-convert {\n",
              "      background-color: #3B4455;\n",
              "      fill: #D2E3FC;\n",
              "    }\n",
              "\n",
              "    [theme=dark] .colab-df-convert:hover {\n",
              "      background-color: #434B5C;\n",
              "      box-shadow: 0px 1px 3px 1px rgba(0, 0, 0, 0.15);\n",
              "      filter: drop-shadow(0px 1px 2px rgba(0, 0, 0, 0.3));\n",
              "      fill: #FFFFFF;\n",
              "    }\n",
              "  </style>\n",
              "\n",
              "      <script>\n",
              "        const buttonEl =\n",
              "          document.querySelector('#df-b41f5b70-367a-4ef2-abb4-63111436e3d5 button.colab-df-convert');\n",
              "        buttonEl.style.display =\n",
              "          google.colab.kernel.accessAllowed ? 'block' : 'none';\n",
              "\n",
              "        async function convertToInteractive(key) {\n",
              "          const element = document.querySelector('#df-b41f5b70-367a-4ef2-abb4-63111436e3d5');\n",
              "          const dataTable =\n",
              "            await google.colab.kernel.invokeFunction('convertToInteractive',\n",
              "                                                     [key], {});\n",
              "          if (!dataTable) return;\n",
              "\n",
              "          const docLinkHtml = 'Like what you see? Visit the ' +\n",
              "            '<a target=\"_blank\" href=https://colab.research.google.com/notebooks/data_table.ipynb>data table notebook</a>'\n",
              "            + ' to learn more about interactive tables.';\n",
              "          element.innerHTML = '';\n",
              "          dataTable['output_type'] = 'display_data';\n",
              "          await google.colab.output.renderOutput(dataTable, element);\n",
              "          const docLink = document.createElement('div');\n",
              "          docLink.innerHTML = docLinkHtml;\n",
              "          element.appendChild(docLink);\n",
              "        }\n",
              "      </script>\n",
              "    </div>\n",
              "  </div>\n",
              "  "
            ]
          },
          "metadata": {},
          "execution_count": 63
        }
      ]
    },
    {
      "cell_type": "code",
      "source": [
        "#Calculando o quanto o modelo ta errando? Qual a diferença entre o valor real e o valor que meu modelo erra?\n",
        "#Criando coluna error - preço - predição\n",
        "df1['error'] = df1['price'] - df1['prediction']"
      ],
      "metadata": {
        "id": "-mKp-W0FLXzX"
      },
      "execution_count": null,
      "outputs": []
    },
    {
      "cell_type": "code",
      "source": [
        "#Analisando os dados referenciados na linha 38 - Entende-se que, \n",
        "#if Preço real seja > Predição do Modelo { Error = Positivo (SubEstimação) } else Preço real seja < Predição do Modelo { Error = Negativo (SuperEstimação) }"
      ],
      "metadata": {
        "id": "YDEg9mhEMRZT"
      },
      "execution_count": null,
      "outputs": []
    },
    {
      "cell_type": "code",
      "source": [
        "#Pegando apenas valores positivos deixando de forma absoluta as SuperEstimações\n",
        "#ERRO ABSOLUTO\n",
        "df1['error_abs'] = np.abs( df1['error'] )"
      ],
      "metadata": {
        "id": "bk4i7RBPMwvj"
      },
      "execution_count": null,
      "outputs": []
    },
    {
      "cell_type": "code",
      "source": [
        "#Toda vez que tiver erro aquele valor pode estar errado em quanto para cada uma das predições?\n",
        "#Toda vez que o modelo realizar uma predição em quanto eu posso estar errado? = { res = 125921.54419398597}\n",
        "#Dependendo do range a grandeza da variável resposta pode ser pequena ou grande na interpretação, neste caso trabalhamos na casa dos milhões então\n",
        "#O range depende!\n",
        "\n",
        "#Mean Absolute Error - MEDIA DO ERRO ABSOLUTO\n",
        "mae = np.mean(df1['error_abs'])\n",
        "print('MAE: {} '.format( mae ))"
      ],
      "metadata": {
        "colab": {
          "base_uri": "https://localhost:8080/"
        },
        "id": "QVJ6rF82NRHy",
        "outputId": "4679a50a-9383-4582-8c39-99cbd271d176"
      },
      "execution_count": null,
      "outputs": [
        {
          "output_type": "stream",
          "name": "stdout",
          "text": [
            "MAE: 125921.54419398609 \n"
          ]
        }
      ]
    },
    {
      "cell_type": "code",
      "source": [
        "#Uma vez que eu encontrei o erro quantos % corresponde ao valor real?\n",
        "#ERRO PERCENTUAL\n",
        "df1['error_perc'] = ((df1['price'] - df1['prediction']) / df1['price']) * 100"
      ],
      "metadata": {
        "id": "tBiXp1sIOIdx"
      },
      "execution_count": null,
      "outputs": []
    },
    {
      "cell_type": "code",
      "source": [
        "#ERRO PERCENTUAL ABSOLUTO\n",
        "df1['error_perc_abs'] = np.abs(df1['error_perc'])\n"
      ],
      "metadata": {
        "id": "1ntmoAEfPg2Z"
      },
      "execution_count": null,
      "outputs": []
    },
    {
      "cell_type": "code",
      "source": [
        "#Toda vez que meu modelo faz previsão pro problema em média erro 125921 em relação ao preço real e desses 125921 corresponde\n",
        "#a 25% do valor de venda real\n",
        "\n",
        "#Toda vez que faz predição está sujeito a 25% de erros - Ver se é bom ou ruim\n",
        "\n",
        "#Mean Absolute Percentage Error = MEDIA PERCENTUAL DE ERRO ABSOLUTO\n",
        "mape = np.mean ( df1['error_perc_abs'])\n",
        "print('MAPE: {} '.format( mape ))"
      ],
      "metadata": {
        "colab": {
          "base_uri": "https://localhost:8080/"
        },
        "id": "WAMMNeLQQByR",
        "outputId": "6e77e052-15ba-4378-a7c1-279fe1d768e7"
      },
      "execution_count": null,
      "outputs": [
        {
          "output_type": "stream",
          "name": "stdout",
          "text": [
            "MAP: 25.58051253618782 \n"
          ]
        }
      ]
    }
  ]
}